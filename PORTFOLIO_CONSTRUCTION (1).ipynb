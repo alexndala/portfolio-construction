{
 "cells": [
  {
   "cell_type": "markdown",
   "metadata": {
    "id": "dpDDO7FF1V-9"
   },
   "source": [
    "###We construct portfolios to:\n",
    "\n",
    "\n",
    "\n",
    "1.   Diversify risk: By combining multiple assets with different risk and return characteristics, we can reduce the overall risk of our portfolio. This is because the returns of different assets are not perfectly correlated, so when one asset performs poorly, another asset may perform well, offsetting the losses.\n",
    "\n",
    "2.  Enhance returns: By carefully selecting assets with high expected returns, we can construct a portfolio that has a higher expected return than any of the individual assets. This is because the expected return of a portfolio is a weighted average of the expected returns of the individual assets.\n",
    "\n",
    "3. Meet specific investment objectives: Different investors have different investment objectives, such as maximizing returns, minimizing risk, or generating income. By constructing a portfolio that is tailored to our specific investment objectives, we can increase the likelihood of achieving our goals.\n",
    "\n",
    "4. Manage cash flow: By constructing a portfolio with a mix of assets that have different cash flow characteristics, we can ensure that we have sufficient cash flow to meet our needs. For example, we may include some assets that generate regular income, such as bonds, and some assets that have the potential for capital appreciation, such as stocks.\n",
    "\n",
    "5. Reduce transaction costs: By constructing a portfolio with a mix of assets that have different transaction costs, we can reduce the overall transaction costs of our investment. For example, we may include some assets that have low transaction costs, such as ETFs, and some assets that have higher transaction costs, such as individual stocks.\n"
   ]
  },
  {
   "cell_type": "code",
   "execution_count": 1,
   "metadata": {
    "id": "LLIqtFAr1hGl"
   },
   "outputs": [
    {
     "ename": "OSError",
     "evalue": "'seaborn-ticks' is not a valid package style, path of style file, URL of style file, or library style name (library styles are listed in `style.available`)",
     "output_type": "error",
     "traceback": [
      "\u001b[1;31m---------------------------------------------------------------------------\u001b[0m",
      "\u001b[1;31mFileNotFoundError\u001b[0m                         Traceback (most recent call last)",
      "File \u001b[1;32m~\\AppData\\Roaming\\Python\\Python312\\site-packages\\matplotlib\\style\\core.py:137\u001b[0m, in \u001b[0;36muse\u001b[1;34m(style)\u001b[0m\n\u001b[0;32m    136\u001b[0m \u001b[38;5;28;01mtry\u001b[39;00m:\n\u001b[1;32m--> 137\u001b[0m     style \u001b[38;5;241m=\u001b[39m \u001b[43m_rc_params_in_file\u001b[49m\u001b[43m(\u001b[49m\u001b[43mstyle\u001b[49m\u001b[43m)\u001b[49m\n\u001b[0;32m    138\u001b[0m \u001b[38;5;28;01mexcept\u001b[39;00m \u001b[38;5;167;01mOSError\u001b[39;00m \u001b[38;5;28;01mas\u001b[39;00m err:\n",
      "File \u001b[1;32m~\\AppData\\Roaming\\Python\\Python312\\site-packages\\matplotlib\\__init__.py:870\u001b[0m, in \u001b[0;36m_rc_params_in_file\u001b[1;34m(fname, transform, fail_on_error)\u001b[0m\n\u001b[0;32m    869\u001b[0m rc_temp \u001b[38;5;241m=\u001b[39m {}\n\u001b[1;32m--> 870\u001b[0m \u001b[43m\u001b[49m\u001b[38;5;28;43;01mwith\u001b[39;49;00m\u001b[43m \u001b[49m\u001b[43m_open_file_or_url\u001b[49m\u001b[43m(\u001b[49m\u001b[43mfname\u001b[49m\u001b[43m)\u001b[49m\u001b[43m \u001b[49m\u001b[38;5;28;43;01mas\u001b[39;49;00m\u001b[43m \u001b[49m\u001b[43mfd\u001b[49m\u001b[43m:\u001b[49m\n\u001b[0;32m    871\u001b[0m \u001b[43m    \u001b[49m\u001b[38;5;28;43;01mtry\u001b[39;49;00m\u001b[43m:\u001b[49m\n",
      "File \u001b[1;32mc:\\Program Files\\Python312\\Lib\\contextlib.py:137\u001b[0m, in \u001b[0;36m_GeneratorContextManager.__enter__\u001b[1;34m(self)\u001b[0m\n\u001b[0;32m    136\u001b[0m \u001b[38;5;28;01mtry\u001b[39;00m:\n\u001b[1;32m--> 137\u001b[0m     \u001b[38;5;28;01mreturn\u001b[39;00m \u001b[38;5;28;43mnext\u001b[39;49m\u001b[43m(\u001b[49m\u001b[38;5;28;43mself\u001b[39;49m\u001b[38;5;241;43m.\u001b[39;49m\u001b[43mgen\u001b[49m\u001b[43m)\u001b[49m\n\u001b[0;32m    138\u001b[0m \u001b[38;5;28;01mexcept\u001b[39;00m \u001b[38;5;167;01mStopIteration\u001b[39;00m:\n",
      "File \u001b[1;32m~\\AppData\\Roaming\\Python\\Python312\\site-packages\\matplotlib\\__init__.py:847\u001b[0m, in \u001b[0;36m_open_file_or_url\u001b[1;34m(fname)\u001b[0m\n\u001b[0;32m    846\u001b[0m fname \u001b[38;5;241m=\u001b[39m os\u001b[38;5;241m.\u001b[39mpath\u001b[38;5;241m.\u001b[39mexpanduser(fname)\n\u001b[1;32m--> 847\u001b[0m \u001b[38;5;28;01mwith\u001b[39;00m \u001b[38;5;28;43mopen\u001b[39;49m\u001b[43m(\u001b[49m\u001b[43mfname\u001b[49m\u001b[43m,\u001b[49m\u001b[43m \u001b[49m\u001b[43mencoding\u001b[49m\u001b[38;5;241;43m=\u001b[39;49m\u001b[38;5;124;43m'\u001b[39;49m\u001b[38;5;124;43mutf-8\u001b[39;49m\u001b[38;5;124;43m'\u001b[39;49m\u001b[43m)\u001b[49m \u001b[38;5;28;01mas\u001b[39;00m f:\n\u001b[0;32m    848\u001b[0m     \u001b[38;5;28;01myield\u001b[39;00m f\n",
      "\u001b[1;31mFileNotFoundError\u001b[0m: [Errno 2] No such file or directory: 'seaborn-ticks'",
      "\nThe above exception was the direct cause of the following exception:\n",
      "\u001b[1;31mOSError\u001b[0m                                   Traceback (most recent call last)",
      "Cell \u001b[1;32mIn[1], line 17\u001b[0m\n\u001b[0;32m     15\u001b[0m np\u001b[38;5;241m.\u001b[39mset_printoptions(suppress\u001b[38;5;241m=\u001b[39m\u001b[38;5;28;01mTrue\u001b[39;00m)\n\u001b[0;32m     16\u001b[0m pd\u001b[38;5;241m.\u001b[39moptions\u001b[38;5;241m.\u001b[39mdisplay\u001b[38;5;241m.\u001b[39mprecision \u001b[38;5;241m=\u001b[39m \u001b[38;5;241m4\u001b[39m\n\u001b[1;32m---> 17\u001b[0m \u001b[43mplt\u001b[49m\u001b[38;5;241;43m.\u001b[39;49m\u001b[43mstyle\u001b[49m\u001b[38;5;241;43m.\u001b[39;49m\u001b[43muse\u001b[49m\u001b[43m(\u001b[49m\u001b[38;5;124;43m'\u001b[39;49m\u001b[38;5;124;43mseaborn-ticks\u001b[39;49m\u001b[38;5;124;43m'\u001b[39;49m\u001b[43m)\u001b[49m\n",
      "File \u001b[1;32m~\\AppData\\Roaming\\Python\\Python312\\site-packages\\matplotlib\\style\\core.py:139\u001b[0m, in \u001b[0;36muse\u001b[1;34m(style)\u001b[0m\n\u001b[0;32m    137\u001b[0m         style \u001b[38;5;241m=\u001b[39m _rc_params_in_file(style)\n\u001b[0;32m    138\u001b[0m     \u001b[38;5;28;01mexcept\u001b[39;00m \u001b[38;5;167;01mOSError\u001b[39;00m \u001b[38;5;28;01mas\u001b[39;00m err:\n\u001b[1;32m--> 139\u001b[0m         \u001b[38;5;28;01mraise\u001b[39;00m \u001b[38;5;167;01mOSError\u001b[39;00m(\n\u001b[0;32m    140\u001b[0m             \u001b[38;5;124mf\u001b[39m\u001b[38;5;124m\"\u001b[39m\u001b[38;5;132;01m{\u001b[39;00mstyle\u001b[38;5;132;01m!r}\u001b[39;00m\u001b[38;5;124m is not a valid package style, path of style \u001b[39m\u001b[38;5;124m\"\u001b[39m\n\u001b[0;32m    141\u001b[0m             \u001b[38;5;124mf\u001b[39m\u001b[38;5;124m\"\u001b[39m\u001b[38;5;124mfile, URL of style file, or library style name (library \u001b[39m\u001b[38;5;124m\"\u001b[39m\n\u001b[0;32m    142\u001b[0m             \u001b[38;5;124mf\u001b[39m\u001b[38;5;124m\"\u001b[39m\u001b[38;5;124mstyles are listed in `style.available`)\u001b[39m\u001b[38;5;124m\"\u001b[39m) \u001b[38;5;28;01mfrom\u001b[39;00m \u001b[38;5;21;01merr\u001b[39;00m\n\u001b[0;32m    143\u001b[0m filtered \u001b[38;5;241m=\u001b[39m {}\n\u001b[0;32m    144\u001b[0m \u001b[38;5;28;01mfor\u001b[39;00m k \u001b[38;5;129;01min\u001b[39;00m style:  \u001b[38;5;66;03m# don't trigger RcParams.__getitem__('backend')\u001b[39;00m\n",
      "\u001b[1;31mOSError\u001b[0m: 'seaborn-ticks' is not a valid package style, path of style file, URL of style file, or library style name (library styles are listed in `style.available`)"
     ]
    }
   ],
   "source": [
    "#IMPORTING NECESSARY DATA ANALYSIS AND VISUALIZATION LIBRARIES\n",
    "# %pip install plotly\n",
    "\n",
    "import pandas as pd\n",
    "import numpy as np\n",
    "import matplotlib.pyplot as plt\n",
    "import warnings\n",
    "import yfinance as yf\n",
    "import plotly.express as px\n",
    "import plotly.graph_objs as go\n",
    "\n",
    "%matplotlib inline\n",
    "\n",
    "warnings.filterwarnings('ignore')\n",
    "np.set_printoptions(suppress=True)\n",
    "pd.options.display.precision = 4\n",
    "plt.style.use('seaborn-ticks')"
   ]
  },
  {
   "cell_type": "markdown",
   "metadata": {
    "id": "-b3d8x_l2jFG"
   },
   "source": [
    "#INVESTING IN A SINGLE STOCK\n",
    "\n",
    ">Investing 100% allocation in one or two assets is not advisable because it exposes the investor to a high level of risk. Here are the reasons why:\n",
    "\n",
    "1. Lack of diversification: Diversification is a risk management strategy that involves spreading investments across different assets. By investing 100% in one or two assets, the investor is not diversified and is therefore exposed to the full risk of those assets.\n",
    "\n",
    "2. Lack of diversification: Diversification is a risk management strategy that involves spreading investments across different assets. By investing 100% in one or two assets, the investor is not diversified and is therefore exposed to the full risk of those assets.\n",
    "\n",
    "3. Potential for catastrophic loss: If one of the assets in which the investor has invested 100% loses value, the investor could lose a significant portion of their investment. This is especially true if the asset is illiquid and the investor is unable to sell it quickly.\n",
    "\n",
    "For these reasons, it is generally advisable to diversify investments across a range of assets. This will help to reduce the risk of the investment portfolio and provide the investor with a more stable return.\n",
    "\n",
    "\n",
    "\n",
    "\n",
    "\n",
    "\n",
    "\n",
    "\n",
    "\n",
    "\n",
    "\n",
    "\n",
    "\n",
    "\n",
    "\n",
    "\n",
    "\n",
    "\n",
    "\n",
    "\n",
    "\n",
    "\n"
   ]
  },
  {
   "cell_type": "markdown",
   "metadata": {
    "id": "5NgF11v8EXKT"
   },
   "source": [
    "#IF NOT ONE , THEN HOW MANY STOCKS TO KEEP IN  A PORTFOLIO IDEALLY?\n",
    "\n",
    "The ideal number of stocks in a portfolio depends on the investor's risk tolerance, investment goals, and diversification strategy.\n",
    "\n",
    "\n",
    "\n",
    "1. Investors with a higher risk tolerance may hold fewer stocks, while those with long-term goals may hold more.\n",
    "2. A well-diversified portfolio typically contains between 20 and 30 stocks.\n",
    "3. The best number of stocks for a particular investor depends on their individual circumstances and goals.\n",
    "4. There is no right or wrong answer to the question of how many stocks should be in a portfolio.\n",
    "\n",
    "Ultimately, the goal is to create a portfolio that meets the investor's unique needs and objectives.\n",
    "\n",
    "\n",
    ">HOWEVER WE WILL CHECK HOW MANY STOCKS ARE AN IDEAL APPROACH BY VISUALIZING AN ELBOW CURVE OF STOCK PORTFOLIOS SHARPE RATIOS i.e. SHARPE RATIO OF 1 STOCK PORTFOLIO , 2 STOCKS PORTFOLIO , 3 STOCKS AND SO ON AN SO FORTH(ALL EQUAL WEIGHTED FOR SIMPLICITY)"
   ]
  },
  {
   "cell_type": "markdown",
   "metadata": {
    "id": "Lm9Eo9SEk_gH"
   },
   "source": [
    "######BEFORE PROCEEDING , WE WILL CHECK HOW MANY OF THE STOCKS ACTUALLY HAVE OHLC INFO AVAILABLE FROM 2015(THAT'S WHEN WE WILL BUILD OUR MODEL FROM)"
   ]
  },
  {
   "cell_type": "code",
   "execution_count": null,
   "metadata": {
    "colab": {
     "base_uri": "https://localhost:8080/"
    },
    "id": "X3UEG9HMk-a_",
    "outputId": "69c6ba2a-6c81-47d3-85c9-ddee94e66a73"
   },
   "outputs": [
    {
     "name": "stderr",
     "output_type": "stream",
     "text": [
      "[*********************100%***********************]  1 of 1 completed\n",
      "[*********************100%***********************]  1 of 1 completed\n",
      "[*********************100%***********************]  1 of 1 completed\n",
      "[*********************100%***********************]  1 of 1 completed\n",
      "[*********************100%***********************]  1 of 1 completed\n",
      "[*********************100%***********************]  1 of 1 completed\n",
      "[*********************100%***********************]  1 of 1 completed\n",
      "[*********************100%***********************]  1 of 1 completed\n",
      "[*********************100%***********************]  1 of 1 completed\n",
      "[*********************100%***********************]  1 of 1 completed\n",
      "[*********************100%***********************]  1 of 1 completed\n",
      "[*********************100%***********************]  1 of 1 completed\n",
      "[*********************100%***********************]  1 of 1 completed\n",
      "[*********************100%***********************]  1 of 1 completed\n",
      "[*********************100%***********************]  1 of 1 completed\n",
      "[*********************100%***********************]  1 of 1 completed\n",
      "[*********************100%***********************]  1 of 1 completed\n",
      "[*********************100%***********************]  1 of 1 completed\n",
      "[*********************100%***********************]  1 of 1 completed\n",
      "[*********************100%***********************]  1 of 1 completed\n",
      "[*********************100%***********************]  1 of 1 completed\n",
      "[*********************100%***********************]  1 of 1 completed\n",
      "[*********************100%***********************]  1 of 1 completed\n",
      "[*********************100%***********************]  1 of 1 completed\n",
      "[*********************100%***********************]  1 of 1 completed\n",
      "[*********************100%***********************]  1 of 1 completed\n",
      "\n",
      "1 Failed download:\n",
      "['NHM.JO']: YFTzMissingError('$%ticker%: possibly delisted; no timezone found')\n",
      "[*********************100%***********************]  1 of 1 completed\n",
      "[*********************100%***********************]  1 of 1 completed\n",
      "[*********************100%***********************]  1 of 1 completed\n",
      "[*********************100%***********************]  1 of 1 completed\n",
      "[*********************100%***********************]  1 of 1 completed\n",
      "[*********************100%***********************]  1 of 1 completed\n",
      "[*********************100%***********************]  1 of 1 completed\n",
      "[*********************100%***********************]  1 of 1 completed\n",
      "[*********************100%***********************]  1 of 1 completed\n",
      "[*********************100%***********************]  1 of 1 completed\n",
      "[*********************100%***********************]  1 of 1 completed\n",
      "[*********************100%***********************]  1 of 1 completed\n",
      "[*********************100%***********************]  1 of 1 completed\n",
      "[*********************100%***********************]  1 of 1 completed\n",
      "[*********************100%***********************]  1 of 1 completed\n",
      "[*********************100%***********************]  1 of 1 completed\n",
      "[*********************100%***********************]  1 of 1 completed\n",
      "[*********************100%***********************]  1 of 1 completed\n",
      "\n",
      "1 Failed download:\n",
      "['RMI.JO']: YFTzMissingError('$%ticker%: possibly delisted; no timezone found')\n",
      "[*********************100%***********************]  1 of 1 completed\n",
      "[*********************100%***********************]  1 of 1 completed\n",
      "[*********************100%***********************]  1 of 1 completed\n",
      "[*********************100%***********************]  1 of 1 completed\n",
      "[*********************100%***********************]  1 of 1 completed\n",
      "[*********************100%***********************]  1 of 1 completed\n",
      "[*********************100%***********************]  1 of 1 completed\n",
      "[*********************100%***********************]  1 of 1 completed\n",
      "[*********************100%***********************]  1 of 1 completed\n",
      "[*********************100%***********************]  1 of 1 completed\n",
      "[*********************100%***********************]  1 of 1 completed\n",
      "[*********************100%***********************]  1 of 1 completed\n",
      "[*********************100%***********************]  1 of 1 completed\n"
     ]
    },
    {
     "data": {
      "text/plain": [
       "Index(['PRX.JO', 'ANH.JO', 'BTI.JO', 'GLN.JO', 'AGL.JO', 'NPN.JO', 'FSR.JO',\n",
       "       'SBK.JO', 'CPI.JO', 'GFI.JO', 'ANG.JO', 'VOD.JO', 'S32.JO', 'SLM.JO',\n",
       "       'SHP.JO', 'AMS.JO', 'ABG.JO', 'MTN.JO', 'BID.JO', 'NED.JO', 'DSY.JO',\n",
       "       'MNP.JO', 'KIO.JO', 'HAR.JO', 'OUT.JO', 'NRP.JO', 'PPH.JO', 'RNI.JO',\n",
       "       'BVT.JO', 'CLS.JO', 'IMP.JO', 'INP.JO', 'REM.JO', 'MRP.JO', 'APN.JO',\n",
       "       'WHL.JO', 'OMU.JO', 'EXX.JO', 'SOL.JO', 'TFG.JO', 'QLT.JO', 'MCG.JO',\n",
       "       'TBS.JO', 'GRT.JO', 'SNT.JO', 'MTM.JO', 'TRU.JO', 'INL.JO', 'AVI.JO',\n",
       "       'ARI.JO', 'HMN.JO', 'DCP.JO', 'RDF.JO', 'SAP.JO'],\n",
       "      dtype='object')"
      ]
     },
     "execution_count": 63,
     "metadata": {},
     "output_type": "execute_result"
    }
   ],
   "source": [
    "def shares_to_watch(stock_symbols):\n",
    "    stocks_data = pd.DataFrame()\n",
    "\n",
    "   \n",
    "    for stock in stock_symbols:\n",
    "        # Download stock data\n",
    "        stock_data = yf.download(stock, start='2014-01-01', end='2024-10-01')[['Adj Close']]\n",
    "\n",
    "        # Add share data to the DataFrame\n",
    "        stocks_data[stock] = stock_data['Adj Close']\n",
    "\n",
    "    # Drop columns with NaN values\n",
    "    cleaned_data = stocks_data.dropna(axis=1)\n",
    "\n",
    "    return cleaned_data.columns\n",
    "\n",
    "\n",
    "\n",
    "# Read the CSV file\n",
    "# symbls = pd.read_csv('companies-list-modified1.csv')\n",
    "\n",
    "# # Remove 'JSE:' from the Code column and add '.JO' suffix\n",
    "# symbls['Code'] = symbls['Code'].str.replace('JSE:', '').str.strip() + '.JO'\n",
    "\n",
    "\n",
    "# # Save the modified dataframe back to CSV\n",
    "# symbls.to_csv('companies-list-modified1.csv', index=False, header=False)\n",
    "\n",
    "\n",
    "# symbls =['ABG.JO','INL.JO','NED.JO','SOL.JO','ADH.JO','AVI.JO','TBS.JO','BAW.JO',\n",
    "#          'MNP.JO','NTC.JO','SAP.JO','ARI.JO','GLN.JO','KIO.JO','QLT.JO','RNI.JO',\n",
    "#          'REM.JO','DSY.JO','MTM.JO','OMU.JO','OUT.JO','EXX.JO','CLS.JO','SPP.JO','APN.JO',\n",
    "#         'AMS.JO','DRD.JO','IMP.JO','NPH.JO','SSW.JO','FFB.JO','GRT.JO','RDF.JO','RES.JO',\n",
    "#         'MTH.JO','MRP.JO','TFG.JO','TRU.JO','WHL.JO','MCG.JO','VOD.JO',\"PRX.JO\", \"NPN.JO\", \"FSR.JO\", \"BVT.JO\",\n",
    "#         \"CPI.JO\", \"SBK.JO\",\"GFI.JO\",\"SHP.JO\",\"BTI.JO\",\"IBIT\",\"MST.JO\",\"BHG.JO\",\"ANH.JO\",\"CFR.JO\",\"AGL.JO\",\"ANG.JO\",\n",
    "#         \"S32.JO\",\"SLM.JO\",\"MTN.JO\",\"BID.JO\",\"HAR.JO\",\"NHM,JO\",\"NRP.JO\",\"PPH.JO\",\"INP.JO\",\"RMI.JO\",\"SNT.JO\",\"HMN.JO\",\"DCP.JO\",\"SRE.JO\",\n",
    "#         ]\n",
    "\n",
    "# symbls = [\"PRX.JO\",\"ANH.JO\",\"BTI.JO\",\"CFR.JO\",\"GLN.JO\",\"AGL.JO\",\n",
    "# \"NPN.JO\",\"FSR.JO\",\"SBK.JO\",\"CPI.JO\",\"GFI.JO\",\"ANG.JO\",\"VOD.JO\",\"S32.JO\",\"SLM.JO\",\n",
    "# \"SHP.JO\",\"AMS.JO\",\"ABG.JO\",\"MTN.JO\",\"BID.JO\",\"NED.JO\",\"DSY.JO\",\"MNP.JO\",\"KIO.JO\",\n",
    "# \"HAR.JO\",\"NHM.JO\",\"OUT.JO\",\"NRP.JO\",\"PPH.JO\",\"RNI.JO\",\"BVT.JO\",\"CLS.JO\",\"IMP.JO\",\n",
    "# \"INP.JO\",\"REM.JO\",\"MRP.JO\",\"APN.JO\",\"WHL.JO\",\"OMU.JO\",\"EXX.JO\",\"SOL.JO\",\"TFG.JO\",\n",
    "# \"QLT.JO\",\"RMI.JO\",\"MCG.JO\",\"TBS.JO\",\"GRT.JO\",\"SNT.JO\",\"MTM.JO\",\n",
    "# \"TRU.JO\",\"INL.JO\",\"AVI.JO\",\"ARI.JO\",\"HMN.JO\",\"DCP.JO\",\"RDF.JO\",\"SAP.JO\",\"SRE.JO\",\n",
    "# \"SPP.JO\",\"BYI.JO\",\"LHC.JO\",\"KST.JO\",\"FFB.JO\",\"CCO.JO\",\"KRO.JO\",\"N91.JO\",\"PIK.JO\",\n",
    "# \"VKE.JO\",\"MTH.JO\",\"RES.JO\",\"APH.JO\",\"ITE.JO\",\"NTC.JO\",\"WBC.JO\",\"ADH.JO\",\"PAN.JO\",\n",
    "# \"TGA.JO\",\"TKG.JO\",\"GTC.JO\",\"HYP.JO\",\"BAW.JO\",\"PMR.JO\",\"LTE.JO\",\"DRD.JO\",\"MSP.JO\",\n",
    "# \"HCI.JO\",\"WBO.JO\",\"CML.JO\",\"RLO.JO\",\"EQU.JO\",\"AIL.JO\",\"OMN.JO\",\"SUI.JO\",\"AIP.JO\",\n",
    "# \"TSG.JO\",\"AFT.JO\",\"NY1.JO\",\"JSE.JO\",\"DTC.JO\",\"ATT.JO\",\"AFH.JO\",\"AFE.JO\",\"SPG.JO\",\n",
    "# \"RBX.JO\",\"GND.JO\",\"OCE.JO\",\"AEL.JO\",\"KAP.JO\",\"ARL.JO\",\"RCL.JO\",\"CAA.JO\",\"CVW.JO\",\n",
    "# \"IPF.JO\",\"BAT.JO\",\"COH.JO\",\"SSS.JO\",\"SAC.JO\",\"PPC.JO\",\"FBR.JO\",\"CLI.JO\",\n",
    "# \"HDC.JO\",\"EMI.JO\",\"SDO.JO\",\"DKR.JO\",\"HET.JO\",\"RFG.JO\",\"THA.JO\",\"BLU.JO\",\"DIB.JO\",\n",
    "# \"MED.JO\",\"CSB.JO\",\"CAT.JO\",\"LEW.JO\",\"MPT.JO\",\"NT1.JO\",\"BEL.JO\"]\n",
    "\n",
    "symbols = [\"REN.JO\", \"MTA.JO\", \"ABG.JO\",\"FSR.JO\", \"INL.JO\",\"NED.JO\",\"OMN.JO\",\n",
    "           \"SOL.JO\",\"AEG.JO\",\"MUR.JO\",\"PPC.JO\",\"ARL.JO\",\"MNP.JO\",\"NPK.JO\",\"LHC.JO\",\n",
    "           \"NTC.JO\",\"SAP.JO\",\"ARI.JO\",\"KIO.JO\",\"MRF.JO\",\"SPG.JO\",\"BAT.JO\",\"CML.JO\",\"DSY.JO\",\"OMU.JO\",\n",
    "           \"EXX.JO\",\"PIK.JO\",\"SPP.JO\",\"ASC.JO\",\"APN.JO\",\"AMS.JO\",\"SSW.JO\",\"ANG.JO\",\"GFI.JO\",\"IMP.JO\",\n",
    "           \"BWN.JO\",\"GRT.JO\",\"RDF.JO\",\"MRP.JO\",\"TFG.JO\",\"TRU.JO\",\"PPH.JO\",\"NPN.JO\",\"PRX.JO\",\"EOH.JO\",\n",
    "           \"MTN.JO\",\"TKG.JO\",\"BTI.JO\",\"CLH.JO\",\"SUR.JO\"]\n",
    "\n",
    "\n",
    "\n",
    "syms = shares_to_watch(symbols)\n",
    "syms"
   ]
  },
  {
   "cell_type": "code",
   "execution_count": 64,
   "metadata": {
    "colab": {
     "base_uri": "https://localhost:8080/"
    },
    "id": "Y1t_lemsnhI9",
    "outputId": "cd7419fb-8778-40ef-ce76-973af8aa40fa"
   },
   "outputs": [
    {
     "data": {
      "text/plain": [
       "(['PRX.JO',\n",
       "  'ANH.JO',\n",
       "  'BTI.JO',\n",
       "  'GLN.JO',\n",
       "  'AGL.JO',\n",
       "  'NPN.JO',\n",
       "  'FSR.JO',\n",
       "  'SBK.JO',\n",
       "  'CPI.JO',\n",
       "  'GFI.JO',\n",
       "  'ANG.JO',\n",
       "  'VOD.JO',\n",
       "  'S32.JO',\n",
       "  'SLM.JO',\n",
       "  'SHP.JO',\n",
       "  'AMS.JO',\n",
       "  'ABG.JO',\n",
       "  'MTN.JO',\n",
       "  'BID.JO',\n",
       "  'NED.JO',\n",
       "  'DSY.JO',\n",
       "  'MNP.JO',\n",
       "  'KIO.JO',\n",
       "  'HAR.JO',\n",
       "  'OUT.JO',\n",
       "  'NRP.JO',\n",
       "  'PPH.JO',\n",
       "  'RNI.JO',\n",
       "  'BVT.JO',\n",
       "  'CLS.JO',\n",
       "  'IMP.JO',\n",
       "  'INP.JO',\n",
       "  'REM.JO',\n",
       "  'MRP.JO',\n",
       "  'APN.JO',\n",
       "  'WHL.JO',\n",
       "  'OMU.JO',\n",
       "  'EXX.JO',\n",
       "  'SOL.JO',\n",
       "  'TFG.JO',\n",
       "  'QLT.JO',\n",
       "  'MCG.JO',\n",
       "  'TBS.JO',\n",
       "  'GRT.JO',\n",
       "  'SNT.JO',\n",
       "  'MTM.JO',\n",
       "  'TRU.JO',\n",
       "  'INL.JO',\n",
       "  'AVI.JO',\n",
       "  'ARI.JO',\n",
       "  'HMN.JO',\n",
       "  'DCP.JO',\n",
       "  'RDF.JO',\n",
       "  'SAP.JO'],\n",
       " 54)"
      ]
     },
     "execution_count": 64,
     "metadata": {},
     "output_type": "execute_result"
    }
   ],
   "source": [
    "relevant_shares = syms.values.tolist()\n",
    "relevant_shares, len(relevant_shares)"
   ]
  },
  {
   "cell_type": "markdown",
   "metadata": {
    "id": "xS_Cu56HnW1n"
   },
   "source": [
    ">THESE ARE THE 79 STOCKS OUTPUT OF 92 , WHICH HAVE SUFFICIENT DATA AVAILABLE"
   ]
  },
  {
   "cell_type": "markdown",
   "metadata": {
    "id": "BgIavf5MgYXz"
   },
   "source": [
    "# DEFINING A FUNCTION WHICH CHECKS AND PLOTS THE ELBOW CURVE OF DIFFERENT PORTFOLIOS VOLATILITIES (AS IN ORDER TO FIND AN OPTIMAL PORTFOLIO WE NEED TO TAKE CARE OF VOLATILITY"
   ]
  },
  {
   "cell_type": "code",
   "execution_count": 66,
   "metadata": {
    "colab": {
     "base_uri": "https://localhost:8080/",
     "height": 937
    },
    "id": "aCMT2_tyN53D",
    "outputId": "9b196d6a-a709-4028-ef34-fa335a136cce"
   },
   "outputs": [
    {
     "name": "stderr",
     "output_type": "stream",
     "text": [
      "[*********************100%***********************]  54 of 54 completed\n"
     ]
    },
    {
     "data": {
      "image/png": "[encoded data removed]",
      "text/plain": [
       "<Figure size 1400x600 with 1 Axes>"
      ]
     },
     "metadata": {},
     "output_type": "display_data"
    },
    {
     "data": {
      "text/plain": [
       "1     29.099\n",
       "2     21.768\n",
       "3     19.505\n",
       "4     19.086\n",
       "5     17.116\n",
       "6     17.117\n",
       "7     17.002\n",
       "8     15.760\n",
       "9     15.407\n",
       "10    14.606\n",
       "11    14.160\n",
       "12    14.563\n",
       "13    13.974\n",
       "14    13.875\n",
       "15    14.320\n",
       "16    14.402\n",
       "17    14.464\n",
       "18    13.981\n",
       "19    13.590\n",
       "20    13.095\n",
       "21    12.931\n",
       "22    12.337\n",
       "23    12.515\n",
       "24    12.528\n",
       "25    12.637\n",
       "26    13.106\n",
       "27    12.843\n",
       "28    12.755\n",
       "29    12.441\n",
       "30    12.281\n",
       "31    12.216\n",
       "32    12.302\n",
       "33    12.366\n",
       "34    12.211\n",
       "35    12.251\n",
       "36    12.557\n",
       "37    12.449\n",
       "38    12.313\n",
       "39    12.321\n",
       "40    12.249\n",
       "41    12.323\n",
       "42    12.216\n",
       "43    12.150\n",
       "44    12.278\n",
       "45    12.368\n",
       "46    12.438\n",
       "47    12.537\n",
       "48    12.462\n",
       "49    12.830\n",
       "50    12.831\n",
       "51    12.860\n",
       "52    13.004\n",
       "53    13.048\n",
       "54    13.132\n",
       "dtype: float64"
      ]
     },
     "execution_count": 66,
     "metadata": {},
     "output_type": "execute_result"
    }
   ],
   "source": [
    "import yfinance as yf\n",
    "import numpy as np\n",
    "import pandas as pd\n",
    "import matplotlib.pyplot as plt\n",
    "\n",
    "def calculate_stdev_different_portfolios(share_symbols):\n",
    "    \"\"\"\n",
    "    Calculate standard deviation for portfolios with increasing numbers of stocks and visualize the results.\n",
    "\n",
    "    Args:\n",
    "    stock_symbols (list): A list of stock symbols without '.NS'.\n",
    "\n",
    "    Returns:\n",
    "    Series: Series containing the standard deviation for portfolios with increasing numbers of stocks.\n",
    "    \"\"\"\n",
    "    # Add '.JO' to indicate the exchange (JSE listed) to each share symbol\n",
    "    share_symbols = [symbol for symbol in share_symbols]\n",
    "\n",
    "    # Download daily share data\n",
    "    share_data = yf.download(share_symbols, start='2015-01-01', end='2020-01-01')['Adj Close']\n",
    "\n",
    "    # Calculate daily returns\n",
    "    daily_returns = share_data.pct_change().dropna()\n",
    "\n",
    "    # Dictionary to hold expected standard deviation of portfolios\n",
    "    sd = {}\n",
    "\n",
    "    # Define number of shares in each portfolio\n",
    "    number_of_stocks = np.arange(1, len(daily_returns.columns)+1)\n",
    "\n",
    "    # Iterate through each portfolio\n",
    "    for num_stocks in number_of_stocks:\n",
    "        # Create equal weights for each constituent in the stock\n",
    "        weights = np.full(num_stocks, 1/num_stocks)\n",
    "\n",
    "        # Extract data from whole dataset\n",
    "        stock_data_subset = daily_returns.iloc[:, :num_stocks]\n",
    "\n",
    "        # Create covariance matrix\n",
    "        cov_mat = stock_data_subset.cov()\n",
    "\n",
    "        # Calculate annual covariance matrix\n",
    "        cov_mat = cov_mat * 252\n",
    "\n",
    "        # Calculate expected portfolio volatility\n",
    "        expected_portfolio_variance = weights.T.dot(cov_mat).dot(weights)\n",
    "        expected_portfolio_std_dev = np.sqrt(expected_portfolio_variance)\n",
    "\n",
    "        # Store in dictionary\n",
    "        sd[num_stocks] = round(expected_portfolio_std_dev * 100, 3)\n",
    "\n",
    "    std_dev_of_different_portfolios = pd.Series(sd)\n",
    "\n",
    "    # Plot standard deviations\n",
    "    plt.figure(figsize=(14, 6))\n",
    "    plt.plot(std_dev_of_different_portfolios.index, std_dev_of_different_portfolios.values, marker='o', linestyle='-')\n",
    "    plt.title('Standard Deviation of Portfolios with Increasing Number of Shares(Excelsia 27Four Equity Fund)')\n",
    "    plt.xlabel('Number of Shares in Portfolio')\n",
    "    plt.ylabel('Standard Deviation (%)')\n",
    "    plt.grid(True)\n",
    "    plt.show()\n",
    "\n",
    "    return std_dev_of_different_portfolios[:57]\n",
    "\n",
    "#checking the elbow curve\n",
    "elbow_curve = calculate_stdev_different_portfolios(relevant_shares)\n",
    "elbow_curve"
   ]
  },
  {
   "cell_type": "markdown",
   "metadata": {
    "id": "FjG6FJbhfoSX"
   },
   "source": [
    "AS WE CAN CLEARLY SEE THAT AFTER A CERTAIN AMOUNT OF STOCKS , VOLATILITY CAN'T FURTHER BE REDUCED , SO WE WILL GO WITH ONLY INITIAL 20 PERFORMERS AND WILL SELECT ONLY ONE STOCK FROM ONE SECTOR AS THERE IS LIKELY TO BE A CORRELATION BETWEEN SAME SECTORAL STOCKS"
   ]
  },
  {
   "cell_type": "code",
   "execution_count": null,
   "metadata": {},
   "outputs": [],
   "source": [
    "import numpy as np\n",
    "import pandas as pd\n",
    "import yfinance as yf\n",
    "import warnings\n",
    "\n",
    "warnings.filterwarnings(\"ignore\")\n",
    "pd.options.display.float_format = '{:.4%}'.format\n",
    "\n",
    "# Date range\n",
    "start_date = '2021-01-01'\n",
    "end_date = '2024-11-30'\n",
    "\n",
    "# Tickers of assets\n",
    "\n",
    "# asset_classes = symbols\n",
    "\n",
    "assets = symbols\n",
    "\n",
    "# Downloading data\n",
    "data = yf.download(assets, start=start_date, end=end_date)[\"Adj Close\"]"
   ]
  },
  {
   "cell_type": "markdown",
   "metadata": {},
   "source": [
    "# Calculte returns"
   ]
  },
  {
   "cell_type": "code",
   "execution_count": null,
   "metadata": {},
   "outputs": [],
   "source": [
    "# Calculating returns\n",
    "\n",
    "returns = data[assets].pct_change().dropna()\n",
    "\n",
    "display(returns.head())"
   ]
  },
  {
   "cell_type": "markdown",
   "metadata": {},
   "source": [
    "Relation pre-optimisation"
   ]
  },
  {
   "cell_type": "code",
   "execution_count": null,
   "metadata": {},
   "outputs": [],
   "source": [
    "import riskfolio as rp\n",
    "\n",
    "# Plotting Assets Clusters\n",
    "\n",
    "ax = rp.plot_clusters(returns= returns,\n",
    "                      codependence='pearson',\n",
    "                      linkage='ward',\n",
    "                      k=None,\n",
    "                      max_k=10,\n",
    "                      leaf_order=True,\n",
    "                      dendrogram=True,\n",
    "                      #linecolor='tab:purple',\n",
    "                      ax=None)"
   ]
  },
  {
   "cell_type": "markdown",
   "metadata": {},
   "source": [
    "Optimisation - MinRisk as objective function, classic model, MV as a rm."
   ]
  },
  {
   "cell_type": "code",
   "execution_count": null,
   "metadata": {},
   "outputs": [],
   "source": [
    "import riskfolio as rp\n",
    "\n",
    "# Building the portfolio object\n",
    "port = rp.Portfolio(returns)\n",
    "\n",
    "# Calculating optimal portfolio\n",
    "\n",
    "# Select method and estimate input parameters:\n",
    "\n",
    "method_mu='hist' # Method to estimate expected returns based on historical data.\n",
    "method_cov='hist' # Method to estimate covariance matrix based on historical data.\n",
    "\n",
    "port.assets_stats(method_mu=method_mu, method_cov=method_cov)\n",
    "\n",
    "# Estimate optimal portfolio:\n",
    "\n",
    "model='Classic' # Could be Classic (historical), BL (Black Litterman) or FM (Factor Model)\n",
    "rm = 'MV' # Risk measure used, this time will be variance\n",
    "obj = 'MinRisk' # Objective function, could be MinRisk, MaxRet, Utility or Sharpe\n",
    "hist = True # Use historical scenarios for risk measures that depend on scenarios\n",
    "rf = 0 # Risk free rate\n",
    "l = 0 # Risk aversion factor, only useful when obj is 'Utility'\n",
    "\n",
    "w = port.optimization(model=model, rm=rm, obj=obj, rf=rf, l=l, hist=hist)\n",
    "\n",
    "display(w.T)"
   ]
  },
  {
   "cell_type": "markdown",
   "metadata": {},
   "source": [
    "Composition"
   ]
  },
  {
   "cell_type": "code",
   "execution_count": null,
   "metadata": {},
   "outputs": [],
   "source": [
    "# Plotting the composition of the portfolio\n",
    "\n",
    "ax = rp.plot_pie(w=w, title='MinRisk Excelsia', others=0.05, nrow=25, cmap = \"tab20\",\n",
    "                 height=6, width=10, ax=None)"
   ]
  },
  {
   "cell_type": "markdown",
   "metadata": {},
   "source": [
    "Plotting the risk composition of the portfolio"
   ]
  },
  {
   "cell_type": "code",
   "execution_count": null,
   "metadata": {},
   "outputs": [],
   "source": [
    "ax = rp.plot_risk_con(w, cov=port.cov, returns=port.returns, rm=rm, rf=0, alpha=0.01,\n",
    "                      color=\"tab:blue\", height=6, width=10, ax=None)"
   ]
  },
  {
   "cell_type": "markdown",
   "metadata": {},
   "source": [
    "# constrained risk budgeting per company - aim is to improve returns, risk and returns metrics"
   ]
  },
  {
   "cell_type": "code",
   "execution_count": null,
   "metadata": {},
   "outputs": [],
   "source": [
    "asset_classes = {'Assets': [\"REN.JO\", \"MTA.JO\", \"ABG.JO\",\"FSR.JO\", \"INL.JO\",\"NED.JO\",\"OMN.JO\",\n",
    "           \"SOL.JO\",\"AEG.JO\",\"MUR.JO\",\"PPC.JO\",\"ARL.JO\",\"MNP.JO\",\"NPK.JO\",\"LHC.JO\",\n",
    "           \"NTC.JO\",\"SAP.JO\",\"ARI.JO\",\"KIO.JO\",\"MRF.JO\",\"SPG.JO\",\"BAT.JO\",\"CML.JO\",\"DSY.JO\",\"OMU.JO\",\n",
    "           \"EXX.JO\",\"PIK.JO\",\"SPP.JO\",\"ASC.JO\",\"APN.JO\",\"AMS.JO\",\"SSW.JO\",\"ANG.JO\",\"GFI.JO\",\"IMP.JO\",\n",
    "           \"BWN.JO\",\"GRT.JO\",\"RDF.JO\",\"MRP.JO\",\"TFG.JO\",\"TRU.JO\",\"PPH.JO\",\"NPN.JO\",\"PRX.JO\",\"EOH.JO\",\n",
    "           \"MTN.JO\",\"TKG.JO\",\"BTI.JO\",\"CLH.JO\",\"SUR.JO\"], \n",
    "                 'Industry': ['Domestic Equities',\"Domestic Equities\",\"Domestic Equities\",\"Domestic Equities\",\"Domestic Equities\",\n",
    "                              \"Domestic Equities\",\"Domestic Equities\",\"Domestic Equities\",\"Domestic Equities\",\"Domestic Equities\",\n",
    "                               \"Domestic Equities\",\"Domestic Equities\",\"Domestic Equities\",\"Domestic Equities\",\n",
    "                                \"Domestic Equities\",\"Domestic Equities\",\"Domestic Equities\",\"Domestic Equities\",\"Domestic Equities\",\n",
    "                                 \"Domestic Equities\",\"Domestic Equities\",\"Domestic Equities\",\"Domestic Equities\",\"Domestic Equities\",\n",
    "                                  \"Domestic Equities\",\"Domestic Equities\",\"Domestic Equities\",\"Domestic Equities\",\n",
    "                                   \"Domestic Equities\",\"Domestic Equities\",\"Domestic Equities\",\"Domestic Equities\",\"Domestic Equities\",\n",
    "                                    \"Domestic Equities\",\"Domestic Equities\",\"Domestic Equities\",\"Domestic Equities\",\"Domestic Equities\",\n",
    "                                    \"Domestic Equities\",\"Domestic Equities\",\"Domestic Equities\",\"Domestic Equities\",\"Domestic Equities\",\n",
    "                                    \"Domestic Equities\",\"Domestic Equities\",\"Domestic Equities\",\"Domestic Equities\",\"Domestic Equities\",\"Domestic Equities\",\"Domestic Equities\" ]}\n",
    "\n",
    "asset_classes = pd.DataFrame(asset_classes)\n",
    "asset_classes = asset_classes.sort_values(by=['Assets'])\n",
    "asset_classes.reset_index(inplace=True, drop=True)\n",
    "\n",
    "# Risk contribution constraints vector based on Industry Class\n",
    "b = rp.risk_constraint(asset_classes,\n",
    "                       kind='classes',\n",
    "                       classes_col='Industry')\n",
    "\n",
    "b = pd.DataFrame(b, index=symbols)\n",
    "print(b)"
   ]
  },
  {
   "cell_type": "markdown",
   "metadata": {},
   "source": [
    "# Composition - Excelsia 27Four Equity Fund Equally Weighted"
   ]
  },
  {
   "cell_type": "code",
   "execution_count": null,
   "metadata": {},
   "outputs": [],
   "source": [
    "ax = rp.plot_pie(w=b, title=' Excelsia Equal Balanced Portfolio', others=0.05, nrow=25, cmap = \"tab20\",\n",
    "                 height=6, width=10, ax=None)"
   ]
  },
  {
   "cell_type": "code",
   "execution_count": null,
   "metadata": {},
   "outputs": [],
   "source": [
    "selected_performers = relevant_shares[:55]\n",
    "selected_performers\n"
   ]
  },
  {
   "cell_type": "code",
   "execution_count": null,
   "metadata": {},
   "outputs": [],
   "source": [
    "start_date = '2021-01-01'\n",
    "end_date = '2024-11-30'\n",
    "\n",
    "# Tickers of assets\n",
    "\n",
    "# asset_classes = symbols\n",
    "\n",
    "assets = selected_performers\n",
    "\n",
    "# Downloading data\n",
    "data1 = yf.download(assets, start=start_date, end=end_date)[\"Adj Close\"]"
   ]
  },
  {
   "cell_type": "code",
   "execution_count": null,
   "metadata": {},
   "outputs": [],
   "source": [
    "# Calculating returns\n",
    "\n",
    "returns_selected_performers = data1[assets].pct_change().dropna()\n",
    "\n",
    "display(returns_selected_performers.head())"
   ]
  },
  {
   "cell_type": "markdown",
   "metadata": {},
   "source": [
    "Optimised using risk constraints - correlation"
   ]
  },
  {
   "cell_type": "code",
   "execution_count": null,
   "metadata": {},
   "outputs": [],
   "source": [
    "import riskfolio as rp\n",
    "\n",
    "# Plotting Assets Clusters\n",
    "\n",
    "ax = rp.plot_clusters(returns= returns_selected_performers,\n",
    "                      codependence='pearson',\n",
    "                      linkage='ward',\n",
    "                      k=None,\n",
    "                      max_k=10,\n",
    "                      leaf_order=True,\n",
    "                      dendrogram=True,\n",
    "                      #linecolor='tab:purple',\n",
    "                      ax=None)"
   ]
  },
  {
   "cell_type": "markdown",
   "metadata": {},
   "source": [
    "# DEFINING A FUNCTION WHICH CALCULATES SHARPE RATIOS FOR AN INDIVIDUAL STOCK AND THEN TAKE THE TOP PERFORMERS"
   ]
  },
  {
   "cell_type": "code",
   "execution_count": 41,
   "metadata": {
    "id": "hj35VoIZgx3S"
   },
   "outputs": [],
   "source": [
    "import pandas as pd\n",
    "import yfinance as yf\n",
    "import numpy as np\n",
    "\n",
    "def calculate_sharpe_ratio(stock_symbols):\n",
    "    all_data = pd.DataFrame()\n",
    "\n",
    "    # Iterate over each stock symbol\n",
    "    for stock in stock_symbols:\n",
    "        # Download stock data\n",
    "        stock_data = yf.download(stock, start='2015-01-01', end='2020-01-01')[['Adj Close']]\n",
    "\n",
    "        # Add stock data to the DataFrame\n",
    "        all_data[stock] = stock_data['Adj Close']\n",
    "\n",
    "    # Drop columns with NaN values\n",
    "    cleaned_data = all_data.dropna(axis=1)\n",
    "\n",
    "    # Calculate daily returns\n",
    "    daily_returns = cleaned_data.pct_change().dropna()\n",
    "\n",
    "    # Calculate annualized mean returns\n",
    "    annualized_returns = daily_returns.mean() * 252\n",
    "\n",
    "    # Calculate annualized standard deviation of returns\n",
    "    annualized_std_returns = daily_returns.std() * np.sqrt(252)\n",
    "\n",
    "    # Calculate Sharpe ratio\n",
    "    sharpe_ratio = annualized_returns / annualized_std_returns\n",
    "\n",
    "    # Create DataFrame with Sharpe ratios\n",
    "    sorted_sharpe_ratio = sharpe_ratio.sort_values(ascending=False)\n",
    "\n",
    "\n",
    "    # Create DataFrame with Sharpe ratios\n",
    "    sharpe_df = pd.DataFrame({'Sharpe Ratio': sorted_sharpe_ratio})\n",
    "\n",
    "    return sharpe_df"
   ]
  },
  {
   "cell_type": "code",
   "execution_count": 42,
   "metadata": {
    "colab": {
     "base_uri": "https://localhost:8080/",
     "height": 1000
    },
    "id": "UZAPhueebjxc",
    "outputId": "4236aaef-521e-4ede-c1bc-fdf8c953d3a6"
   },
   "outputs": [
    {
     "name": "stderr",
     "output_type": "stream",
     "text": [
      "[*********************100%***********************]  1 of 1 completed\n",
      "[*********************100%***********************]  1 of 1 completed\n",
      "[*********************100%***********************]  1 of 1 completed\n",
      "[*********************100%***********************]  1 of 1 completed\n",
      "[*********************100%***********************]  1 of 1 completed\n",
      "[*********************100%***********************]  1 of 1 completed\n",
      "[*********************100%***********************]  1 of 1 completed\n",
      "[*********************100%***********************]  1 of 1 completed\n",
      "[*********************100%***********************]  1 of 1 completed\n",
      "[*********************100%***********************]  1 of 1 completed\n",
      "[*********************100%***********************]  1 of 1 completed\n",
      "[*********************100%***********************]  1 of 1 completed\n",
      "[*********************100%***********************]  1 of 1 completed\n",
      "[*********************100%***********************]  1 of 1 completed\n",
      "[*********************100%***********************]  1 of 1 completed\n",
      "[*********************100%***********************]  1 of 1 completed\n",
      "[*********************100%***********************]  1 of 1 completed\n",
      "[*********************100%***********************]  1 of 1 completed\n",
      "[*********************100%***********************]  1 of 1 completed\n",
      "[*********************100%***********************]  1 of 1 completed\n",
      "[*********************100%***********************]  1 of 1 completed\n",
      "[*********************100%***********************]  1 of 1 completed\n",
      "[*********************100%***********************]  1 of 1 completed\n",
      "[*********************100%***********************]  1 of 1 completed\n",
      "[*********************100%***********************]  1 of 1 completed\n",
      "[*********************100%***********************]  1 of 1 completed\n",
      "[*********************100%***********************]  1 of 1 completed\n",
      "[*********************100%***********************]  1 of 1 completed\n",
      "[*********************100%***********************]  1 of 1 completed\n",
      "[*********************100%***********************]  1 of 1 completed\n",
      "[*********************100%***********************]  1 of 1 completed\n",
      "[*********************100%***********************]  1 of 1 completed\n",
      "[*********************100%***********************]  1 of 1 completed\n",
      "[*********************100%***********************]  1 of 1 completed\n",
      "[*********************100%***********************]  1 of 1 completed\n",
      "[*********************100%***********************]  1 of 1 completed\n",
      "[*********************100%***********************]  1 of 1 completed\n",
      "[*********************100%***********************]  1 of 1 completed\n",
      "[*********************100%***********************]  1 of 1 completed\n",
      "[*********************100%***********************]  1 of 1 completed\n",
      "[*********************100%***********************]  1 of 1 completed\n",
      "[*********************100%***********************]  1 of 1 completed\n",
      "[*********************100%***********************]  1 of 1 completed\n"
     ]
    },
    {
     "data": {
      "text/html": [
       "<div>\n",
       "<style scoped>\n",
       "    .dataframe tbody tr th:only-of-type {\n",
       "        vertical-align: middle;\n",
       "    }\n",
       "\n",
       "    .dataframe tbody tr th {\n",
       "        vertical-align: top;\n",
       "    }\n",
       "\n",
       "    .dataframe thead th {\n",
       "        text-align: right;\n",
       "    }\n",
       "</style>\n",
       "<table border=\"1\" class=\"dataframe\">\n",
       "  <thead>\n",
       "    <tr style=\"text-align: right;\">\n",
       "      <th></th>\n",
       "      <th>Sharpe Ratio</th>\n",
       "    </tr>\n",
       "  </thead>\n",
       "  <tbody>\n",
       "    <tr>\n",
       "      <th>CPI.JO</th>\n",
       "      <td>1.2181</td>\n",
       "    </tr>\n",
       "    <tr>\n",
       "      <th>CLS.JO</th>\n",
       "      <td>1.0065</td>\n",
       "    </tr>\n",
       "    <tr>\n",
       "      <th>BVT.JO</th>\n",
       "      <td>0.9503</td>\n",
       "    </tr>\n",
       "    <tr>\n",
       "      <th>AMS.JO</th>\n",
       "      <td>0.8279</td>\n",
       "    </tr>\n",
       "    <tr>\n",
       "      <th>DRD.JO</th>\n",
       "      <td>0.8086</td>\n",
       "    </tr>\n",
       "    <tr>\n",
       "      <th>NPN.JO</th>\n",
       "      <td>0.7089</td>\n",
       "    </tr>\n",
       "    <tr>\n",
       "      <th>MNP.JO</th>\n",
       "      <td>0.6631</td>\n",
       "    </tr>\n",
       "    <tr>\n",
       "      <th>FFB.JO</th>\n",
       "      <td>0.6109</td>\n",
       "    </tr>\n",
       "    <tr>\n",
       "      <th>KIO.JO</th>\n",
       "      <td>0.5869</td>\n",
       "    </tr>\n",
       "    <tr>\n",
       "      <th>EXX.JO</th>\n",
       "      <td>0.5328</td>\n",
       "    </tr>\n",
       "    <tr>\n",
       "      <th>GFI.JO</th>\n",
       "      <td>0.5131</td>\n",
       "    </tr>\n",
       "    <tr>\n",
       "      <th>ARI.JO</th>\n",
       "      <td>0.5022</td>\n",
       "    </tr>\n",
       "    <tr>\n",
       "      <th>IMP.JO</th>\n",
       "      <td>0.4998</td>\n",
       "    </tr>\n",
       "    <tr>\n",
       "      <th>FSR.JO</th>\n",
       "      <td>0.4390</td>\n",
       "    </tr>\n",
       "    <tr>\n",
       "      <th>SPP.JO</th>\n",
       "      <td>0.4285</td>\n",
       "    </tr>\n",
       "    <tr>\n",
       "      <th>SBK.JO</th>\n",
       "      <td>0.4235</td>\n",
       "    </tr>\n",
       "    <tr>\n",
       "      <th>AVI.JO</th>\n",
       "      <td>0.4030</td>\n",
       "    </tr>\n",
       "    <tr>\n",
       "      <th>ADH.JO</th>\n",
       "      <td>0.3992</td>\n",
       "    </tr>\n",
       "    <tr>\n",
       "      <th>BAW.JO</th>\n",
       "      <td>0.3959</td>\n",
       "    </tr>\n",
       "    <tr>\n",
       "      <th>TFG.JO</th>\n",
       "      <td>0.3727</td>\n",
       "    </tr>\n",
       "    <tr>\n",
       "      <th>MST.JO</th>\n",
       "      <td>0.3550</td>\n",
       "    </tr>\n",
       "    <tr>\n",
       "      <th>INL.JO</th>\n",
       "      <td>0.3208</td>\n",
       "    </tr>\n",
       "    <tr>\n",
       "      <th>RES.JO</th>\n",
       "      <td>0.3156</td>\n",
       "    </tr>\n",
       "    <tr>\n",
       "      <th>DSY.JO</th>\n",
       "      <td>0.2682</td>\n",
       "    </tr>\n",
       "    <tr>\n",
       "      <th>GRT.JO</th>\n",
       "      <td>0.2629</td>\n",
       "    </tr>\n",
       "    <tr>\n",
       "      <th>VOD.JO</th>\n",
       "      <td>0.2492</td>\n",
       "    </tr>\n",
       "    <tr>\n",
       "      <th>ABG.JO</th>\n",
       "      <td>0.2395</td>\n",
       "    </tr>\n",
       "    <tr>\n",
       "      <th>SAP.JO</th>\n",
       "      <td>0.2354</td>\n",
       "    </tr>\n",
       "    <tr>\n",
       "      <th>NED.JO</th>\n",
       "      <td>0.2261</td>\n",
       "    </tr>\n",
       "    <tr>\n",
       "      <th>BTI.JO</th>\n",
       "      <td>0.2014</td>\n",
       "    </tr>\n",
       "    <tr>\n",
       "      <th>RDF.JO</th>\n",
       "      <td>0.1976</td>\n",
       "    </tr>\n",
       "    <tr>\n",
       "      <th>GLN.JO</th>\n",
       "      <td>0.1606</td>\n",
       "    </tr>\n",
       "    <tr>\n",
       "      <th>MRP.JO</th>\n",
       "      <td>0.1511</td>\n",
       "    </tr>\n",
       "    <tr>\n",
       "      <th>OUT.JO</th>\n",
       "      <td>0.1209</td>\n",
       "    </tr>\n",
       "    <tr>\n",
       "      <th>MTM.JO</th>\n",
       "      <td>0.0827</td>\n",
       "    </tr>\n",
       "    <tr>\n",
       "      <th>TRU.JO</th>\n",
       "      <td>0.0725</td>\n",
       "    </tr>\n",
       "    <tr>\n",
       "      <th>SOL.JO</th>\n",
       "      <td>0.0578</td>\n",
       "    </tr>\n",
       "    <tr>\n",
       "      <th>REM.JO</th>\n",
       "      <td>0.0567</td>\n",
       "    </tr>\n",
       "    <tr>\n",
       "      <th>SHP.JO</th>\n",
       "      <td>0.0472</td>\n",
       "    </tr>\n",
       "    <tr>\n",
       "      <th>WHL.JO</th>\n",
       "      <td>-0.0367</td>\n",
       "    </tr>\n",
       "    <tr>\n",
       "      <th>TBS.JO</th>\n",
       "      <td>-0.1018</td>\n",
       "    </tr>\n",
       "    <tr>\n",
       "      <th>NTC.JO</th>\n",
       "      <td>-0.2272</td>\n",
       "    </tr>\n",
       "    <tr>\n",
       "      <th>APN.JO</th>\n",
       "      <td>-0.4566</td>\n",
       "    </tr>\n",
       "  </tbody>\n",
       "</table>\n",
       "</div>"
      ],
      "text/plain": [
       "        Sharpe Ratio\n",
       "CPI.JO        1.2181\n",
       "CLS.JO        1.0065\n",
       "BVT.JO        0.9503\n",
       "AMS.JO        0.8279\n",
       "DRD.JO        0.8086\n",
       "NPN.JO        0.7089\n",
       "MNP.JO        0.6631\n",
       "FFB.JO        0.6109\n",
       "KIO.JO        0.5869\n",
       "EXX.JO        0.5328\n",
       "GFI.JO        0.5131\n",
       "ARI.JO        0.5022\n",
       "IMP.JO        0.4998\n",
       "FSR.JO        0.4390\n",
       "SPP.JO        0.4285\n",
       "SBK.JO        0.4235\n",
       "AVI.JO        0.4030\n",
       "ADH.JO        0.3992\n",
       "BAW.JO        0.3959\n",
       "TFG.JO        0.3727\n",
       "MST.JO        0.3550\n",
       "INL.JO        0.3208\n",
       "RES.JO        0.3156\n",
       "DSY.JO        0.2682\n",
       "GRT.JO        0.2629\n",
       "VOD.JO        0.2492\n",
       "ABG.JO        0.2395\n",
       "SAP.JO        0.2354\n",
       "NED.JO        0.2261\n",
       "BTI.JO        0.2014\n",
       "RDF.JO        0.1976\n",
       "GLN.JO        0.1606\n",
       "MRP.JO        0.1511\n",
       "OUT.JO        0.1209\n",
       "MTM.JO        0.0827\n",
       "TRU.JO        0.0725\n",
       "SOL.JO        0.0578\n",
       "REM.JO        0.0567\n",
       "SHP.JO        0.0472\n",
       "WHL.JO       -0.0367\n",
       "TBS.JO       -0.1018\n",
       "NTC.JO       -0.2272\n",
       "APN.JO       -0.4566"
      ]
     },
     "execution_count": 42,
     "metadata": {},
     "output_type": "execute_result"
    }
   ],
   "source": [
    "sharpe_df = calculate_sharpe_ratio(relevant_shares)\n",
    "sharpe_df"
   ]
  },
  {
   "cell_type": "code",
   "execution_count": 23,
   "metadata": {
    "colab": {
     "base_uri": "https://localhost:8080/"
    },
    "id": "hkafVB6EbmEK",
    "outputId": "882539b0-f78b-4549-e3e8-c18289580c18"
   },
   "outputs": [
    {
     "data": {
      "text/plain": [
       "['CPI.JO',\n",
       " 'CLS.JO',\n",
       " 'BVT.JO',\n",
       " 'AMS.JO',\n",
       " 'DRD.JO',\n",
       " 'NPN.JO',\n",
       " 'MNP.JO',\n",
       " 'FFB.JO',\n",
       " 'KIO.JO',\n",
       " 'EXX.JO',\n",
       " 'GFI.JO',\n",
       " 'ARI.JO',\n",
       " 'IMP.JO',\n",
       " 'FSR.JO',\n",
       " 'SPP.JO',\n",
       " 'SBK.JO',\n",
       " 'AVI.JO',\n",
       " 'ADH.JO',\n",
       " 'BAW.JO',\n",
       " 'TFG.JO',\n",
       " 'INL.JO',\n",
       " 'RES.JO',\n",
       " 'DSY.JO',\n",
       " 'GRT.JO',\n",
       " 'VOD.JO',\n",
       " 'ABG.JO',\n",
       " 'SAP.JO',\n",
       " 'NED.JO',\n",
       " 'BTI.JO',\n",
       " 'RDF.JO',\n",
       " 'GLN.JO',\n",
       " 'MRP.JO',\n",
       " 'OUT.JO',\n",
       " 'MTM.JO',\n",
       " 'TRU.JO',\n",
       " 'SOL.JO',\n",
       " 'REM.JO',\n",
       " 'SHP.JO']"
      ]
     },
     "execution_count": 23,
     "metadata": {},
     "output_type": "execute_result"
    }
   ],
   "source": [
    "#selecting top 30 stocks\n",
    "\n",
    "performers = sharpe_df[:38]\n",
    "performers\n",
    "portfolio_symbols = performers.index.tolist()\n",
    "portfolio_symbols"
   ]
  },
  {
   "cell_type": "code",
   "execution_count": 24,
   "metadata": {
    "colab": {
     "base_uri": "https://localhost:8080/"
    },
    "id": "AxrOopJUxzDd",
    "outputId": "c5aab864-ee4e-4b2b-ab1b-7fcb24aa0fa2"
   },
   "outputs": [
    {
     "name": "stdout",
     "output_type": "stream",
     "text": [
      "    Symbol                  Sector\n",
      "1   CPI.JO      Financial Services\n",
      "2   CLS.JO              Healthcare\n",
      "3   BVT.JO             Industrials\n",
      "4   AMS.JO         Basic Materials\n",
      "5   DRD.JO         Basic Materials\n",
      "6   NPN.JO  Communication Services\n",
      "7   MNP.JO         Basic Materials\n",
      "8   FFB.JO             Real Estate\n",
      "9   KIO.JO         Basic Materials\n",
      "10  EXX.JO                  Energy\n",
      "11  GFI.JO         Basic Materials\n",
      "12  ARI.JO         Basic Materials\n",
      "13  IMP.JO         Basic Materials\n",
      "14  FSR.JO      Financial Services\n",
      "15  SPP.JO      Consumer Defensive\n",
      "16  SBK.JO      Financial Services\n",
      "17  AVI.JO      Consumer Defensive\n",
      "18  ADH.JO      Consumer Defensive\n",
      "19  BAW.JO             Industrials\n",
      "20  TFG.JO       Consumer Cyclical\n",
      "21  INL.JO      Financial Services\n",
      "22  RES.JO             Real Estate\n",
      "23  DSY.JO      Financial Services\n",
      "24  GRT.JO             Real Estate\n",
      "25  VOD.JO  Communication Services\n",
      "26  ABG.JO      Financial Services\n",
      "27  SAP.JO         Basic Materials\n",
      "28  NED.JO      Financial Services\n",
      "29  BTI.JO      Consumer Defensive\n",
      "30  RDF.JO             Real Estate\n",
      "31  GLN.JO         Basic Materials\n",
      "32  MRP.JO       Consumer Cyclical\n",
      "33  OUT.JO      Financial Services\n",
      "34  MTM.JO      Financial Services\n",
      "35  TRU.JO       Consumer Cyclical\n",
      "36  SOL.JO         Basic Materials\n",
      "37  REM.JO      Financial Services\n",
      "38  SHP.JO       Consumer Cyclical\n"
     ]
    }
   ],
   "source": [
    "# Empty dataframe to store stock symbols and sectors\n",
    "stock_sector_df = pd.DataFrame(columns=['Symbol', 'Sector'])\n",
    "\n",
    "# Fetch sector information for each stock\n",
    "for symbol in portfolio_symbols:\n",
    "    symbol_with_extension = f\"{symbol}\"  # Append .NS extension\n",
    "    stock = yf.Ticker(symbol_with_extension)\n",
    "    info = stock.info\n",
    "    sector = info.get('sector', 'Unknown')\n",
    "    stock_sector_df.loc[len(stock_sector_df)] = {'Symbol': symbol, 'Sector': sector}\n",
    "# Set serial number as an index\n",
    "stock_sector_df.index = pd.Index(range(1, len(stock_sector_df) + 1))\n",
    "\n",
    "print(stock_sector_df)\n"
   ]
  },
  {
   "cell_type": "code",
   "execution_count": 25,
   "metadata": {
    "colab": {
     "base_uri": "https://localhost:8080/"
    },
    "id": "L7m3ba-yxLcp",
    "outputId": "0947946b-b1eb-454b-91a3-277b9b764007"
   },
   "outputs": [
    {
     "data": {
      "text/plain": [
       "Sector\n",
       "Basic Materials           10\n",
       "Communication Services     2\n",
       "Consumer Cyclical          4\n",
       "Consumer Defensive         4\n",
       "Energy                     1\n",
       "Financial Services        10\n",
       "Healthcare                 1\n",
       "Industrials                2\n",
       "Real Estate                4\n",
       "dtype: int64"
      ]
     },
     "execution_count": 25,
     "metadata": {},
     "output_type": "execute_result"
    }
   ],
   "source": [
    "#lets groupby the stock_sector_df by sector\n",
    "stock_sector_df.groupby('Sector').size()"
   ]
  },
  {
   "cell_type": "code",
   "execution_count": 47,
   "metadata": {
    "colab": {
     "base_uri": "https://localhost:8080/",
     "height": 363
    },
    "id": "odAm8E_SzL59",
    "outputId": "f3401688-3afa-45ab-87e7-d851644d782b"
   },
   "outputs": [
    {
     "data": {
      "text/html": [
       "<div>\n",
       "<style scoped>\n",
       "    .dataframe tbody tr th:only-of-type {\n",
       "        vertical-align: middle;\n",
       "    }\n",
       "\n",
       "    .dataframe tbody tr th {\n",
       "        vertical-align: top;\n",
       "    }\n",
       "\n",
       "    .dataframe thead th {\n",
       "        text-align: right;\n",
       "    }\n",
       "</style>\n",
       "<table border=\"1\" class=\"dataframe\">\n",
       "  <thead>\n",
       "    <tr style=\"text-align: right;\">\n",
       "      <th></th>\n",
       "    </tr>\n",
       "    <tr>\n",
       "      <th>Sector</th>\n",
       "    </tr>\n",
       "  </thead>\n",
       "  <tbody>\n",
       "    <tr>\n",
       "      <th>Basic Materials</th>\n",
       "    </tr>\n",
       "    <tr>\n",
       "      <th>Communication Services</th>\n",
       "    </tr>\n",
       "    <tr>\n",
       "      <th>Consumer Cyclical</th>\n",
       "    </tr>\n",
       "    <tr>\n",
       "      <th>Consumer Defensive</th>\n",
       "    </tr>\n",
       "    <tr>\n",
       "      <th>Energy</th>\n",
       "    </tr>\n",
       "    <tr>\n",
       "      <th>Financial Services</th>\n",
       "    </tr>\n",
       "    <tr>\n",
       "      <th>Healthcare</th>\n",
       "    </tr>\n",
       "    <tr>\n",
       "      <th>Industrials</th>\n",
       "    </tr>\n",
       "    <tr>\n",
       "      <th>Real Estate</th>\n",
       "    </tr>\n",
       "  </tbody>\n",
       "</table>\n",
       "</div>"
      ],
      "text/plain": [
       "Empty DataFrame\n",
       "Columns: []\n",
       "Index: [Basic Materials, Communication Services, Consumer Cyclical, Consumer Defensive, Energy, Financial Services, Healthcare, Industrials, Real Estate]"
      ]
     },
     "execution_count": 47,
     "metadata": {},
     "output_type": "execute_result"
    }
   ],
   "source": [
    "#selecting only first values of a unique sector\n",
    "stock_sector_df = stock_sector_df.groupby('Sector').first()\n",
    "stock_sector_df"
   ]
  },
  {
   "cell_type": "code",
   "execution_count": 27,
   "metadata": {
    "colab": {
     "base_uri": "https://localhost:8080/"
    },
    "id": "4sSvBNzA2bMC",
    "outputId": "dc80a5a3-5e28-4110-e2ad-811b532bd54d"
   },
   "outputs": [
    {
     "name": "stdout",
     "output_type": "stream",
     "text": [
      "['AMS.JO', 'NPN.JO', 'TFG.JO', 'SPP.JO', 'EXX.JO', 'CPI.JO', 'CLS.JO', 'BVT.JO', 'FFB.JO']\n"
     ]
    }
   ],
   "source": [
    "#we will construct a portfolio from these stocks\n",
    "port_opt_sym = stock_sector_df['Symbol'].tolist()\n",
    "print(port_opt_sym)"
   ]
  },
  {
   "cell_type": "code",
   "execution_count": 32,
   "metadata": {
    "colab": {
     "base_uri": "https://localhost:8080/",
     "height": 488
    },
    "id": "uXEINj606Xqi",
    "outputId": "419a0337-1a0a-4ab1-93f6-359d4535decd"
   },
   "outputs": [
    {
     "name": "stderr",
     "output_type": "stream",
     "text": [
      "[*********************100%***********************]  1 of 1 completed\n",
      "[*********************100%***********************]  1 of 1 completed\n",
      "[*********************100%***********************]  1 of 1 completed\n",
      "[*********************100%***********************]  1 of 1 completed\n",
      "[*********************100%***********************]  1 of 1 completed\n",
      "[*********************100%***********************]  1 of 1 completed\n",
      "[*********************100%***********************]  1 of 1 completed\n",
      "[*********************100%***********************]  1 of 1 completed\n",
      "[*********************100%***********************]  1 of 1 completed\n"
     ]
    },
    {
     "data": {
      "text/html": [
       "<div>\n",
       "<style scoped>\n",
       "    .dataframe tbody tr th:only-of-type {\n",
       "        vertical-align: middle;\n",
       "    }\n",
       "\n",
       "    .dataframe tbody tr th {\n",
       "        vertical-align: top;\n",
       "    }\n",
       "\n",
       "    .dataframe thead th {\n",
       "        text-align: right;\n",
       "    }\n",
       "</style>\n",
       "<table border=\"1\" class=\"dataframe\">\n",
       "  <thead>\n",
       "    <tr style=\"text-align: right;\">\n",
       "      <th></th>\n",
       "      <th>returns</th>\n",
       "      <th>volatility</th>\n",
       "    </tr>\n",
       "  </thead>\n",
       "  <tbody>\n",
       "    <tr>\n",
       "      <th>AMS.JO</th>\n",
       "      <td>0.3753</td>\n",
       "      <td>0.4533</td>\n",
       "    </tr>\n",
       "    <tr>\n",
       "      <th>NPN.JO</th>\n",
       "      <td>0.2290</td>\n",
       "      <td>0.3231</td>\n",
       "    </tr>\n",
       "    <tr>\n",
       "      <th>TFG.JO</th>\n",
       "      <td>0.1302</td>\n",
       "      <td>0.3493</td>\n",
       "    </tr>\n",
       "    <tr>\n",
       "      <th>SPP.JO</th>\n",
       "      <td>0.1085</td>\n",
       "      <td>0.2531</td>\n",
       "    </tr>\n",
       "    <tr>\n",
       "      <th>EXX.JO</th>\n",
       "      <td>0.2391</td>\n",
       "      <td>0.4487</td>\n",
       "    </tr>\n",
       "    <tr>\n",
       "      <th>CPI.JO</th>\n",
       "      <td>0.3420</td>\n",
       "      <td>0.2807</td>\n",
       "    </tr>\n",
       "    <tr>\n",
       "      <th>CLS.JO</th>\n",
       "      <td>0.2914</td>\n",
       "      <td>0.2895</td>\n",
       "    </tr>\n",
       "    <tr>\n",
       "      <th>BVT.JO</th>\n",
       "      <td>0.2712</td>\n",
       "      <td>0.2854</td>\n",
       "    </tr>\n",
       "    <tr>\n",
       "      <th>FFB.JO</th>\n",
       "      <td>0.1265</td>\n",
       "      <td>0.2071</td>\n",
       "    </tr>\n",
       "  </tbody>\n",
       "</table>\n",
       "</div>"
      ],
      "text/plain": [
       "        returns  volatility\n",
       "AMS.JO   0.3753      0.4533\n",
       "NPN.JO   0.2290      0.3231\n",
       "TFG.JO   0.1302      0.3493\n",
       "SPP.JO   0.1085      0.2531\n",
       "EXX.JO   0.2391      0.4487\n",
       "CPI.JO   0.3420      0.2807\n",
       "CLS.JO   0.2914      0.2895\n",
       "BVT.JO   0.2712      0.2854\n",
       "FFB.JO   0.1265      0.2071"
      ]
     },
     "execution_count": 32,
     "metadata": {},
     "output_type": "execute_result"
    }
   ],
   "source": [
    "#download adj close data for the stocks from yfinance and add .NS as an extension\n",
    "\n",
    "df_ = pd.DataFrame()\n",
    "\n",
    "for stock in port_opt_sym:\n",
    "    df_ = pd.concat([df_, yf.download(stock, start='2015-01-01', end='2020-01-01')[['Adj Close']]], axis=1)\n",
    "\n",
    "df_.columns = port_opt_sym\n",
    "\n",
    "portfolio_ = pd.DataFrame(columns=['returns','volatility'])\n",
    "#returns calculaions\n",
    "daily_returns = df_.pct_change().dropna()\n",
    "annualized_returns = daily_returns.mean() * 252\n",
    "annualized_std_returns = daily_returns.std() * np.sqrt(252)\n",
    "portfolio_['returns'] = annualized_returns\n",
    "portfolio_['volatility'] = annualized_std_returns\n",
    "portfolio_.index = port_opt_sym\n",
    "portfolio_"
   ]
  }
 ],
 "metadata": {
  "colab": {
   "machine_shape": "hm",
   "provenance": []
  },
  "kernelspec": {
   "display_name": "Python 3",
   "name": "python3"
  },
  "language_info": {
   "codemirror_mode": {
    "name": "ipython",
    "version": 3
   },
   "file_extension": ".py",
   "mimetype": "text/x-python",
   "name": "python",
   "nbconvert_exporter": "python",
   "pygments_lexer": "ipython3",
   "version": "3.12.4"
  }
 },
 "nbformat": 4,
 "nbformat_minor": 0
}

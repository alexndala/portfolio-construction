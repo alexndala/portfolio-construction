{
 "cells": [
  {
   "cell_type": "markdown",
   "metadata": {},
   "source": [
    "# Demonstrate the use of the Elbow Curve method in portfolio management \n",
    "\n",
    "1. Choose any SA Equity portfolio - we'll use the Bateleur BCI SA Equity (A1)\n",
    "2. The objecive is to find the optimal number of assets that this portfolio can hold. "
   ]
  },
  {
   "cell_type": "markdown",
   "metadata": {},
   "source": [
    "# Import the necessary packages"
   ]
  },
  {
   "cell_type": "code",
   "execution_count": 2,
   "metadata": {},
   "outputs": [],
   "source": [
    "import pandas as pd\n",
    "import numpy as np\n",
    "import warnings\n",
    "import yfinance as yf\n",
    "\n",
    "warnings.filterwarnings('ignore')\n",
    "np.set_printoptions(suppress=True)\n",
    "pd.options.display.precision = 4\n",
    "# plt.style.use('seaborn-ticks')"
   ]
  },
  {
   "cell_type": "markdown",
   "metadata": {},
   "source": [
    "# Download the data"
   ]
  },
  {
   "cell_type": "code",
   "execution_count": 7,
   "metadata": {},
   "outputs": [
    {
     "name": "stderr",
     "output_type": "stream",
     "text": [
      "[*********************100%***********************]  9 of 9 completed\n"
     ]
    }
   ],
   "source": [
    "# Date range\n",
    "start = '2024-01-01'\n",
    "end = '2024-12-31'\n",
    "\n",
    "# Tickers of assets\n",
    "assets = asset_classes = pd.read_csv(\"assets_sample9.csv\").sort_values(by = [\"Assets\"])\n",
    "\n",
    "assets = list(asset_classes[\"Assets\"])\n",
    "\n",
    "# market_index = ['^J433.JO']\n",
    "\n",
    "all_assets = assets \n",
    "all_assets.sort()\n",
    "\n",
    "# Downloading data\n",
    "data = yf.download(all_assets, start = start, end = end)\n",
    "data = data.loc[:,('Adj Close', slice(None))]\n",
    "data.columns = all_assets"
   ]
  },
  {
   "cell_type": "markdown",
   "metadata": {},
   "source": [
    "# Calculate the returns"
   ]
  },
  {
   "cell_type": "code",
   "execution_count": 8,
   "metadata": {},
   "outputs": [
    {
     "data": {
      "text/html": [
       "<div>\n",
       "<style scoped>\n",
       "    .dataframe tbody tr th:only-of-type {\n",
       "        vertical-align: middle;\n",
       "    }\n",
       "\n",
       "    .dataframe tbody tr th {\n",
       "        vertical-align: top;\n",
       "    }\n",
       "\n",
       "    .dataframe thead th {\n",
       "        text-align: right;\n",
       "    }\n",
       "</style>\n",
       "<table border=\"1\" class=\"dataframe\">\n",
       "  <thead>\n",
       "    <tr style=\"text-align: right;\">\n",
       "      <th></th>\n",
       "      <th>AFT.JO</th>\n",
       "      <th>ARL.JO</th>\n",
       "      <th>ART.JO</th>\n",
       "      <th>COH.JO</th>\n",
       "      <th>KAL.JO</th>\n",
       "      <th>LBR.JO</th>\n",
       "      <th>NVS.JO</th>\n",
       "      <th>PMR.JO</th>\n",
       "      <th>RNI.JO</th>\n",
       "    </tr>\n",
       "    <tr>\n",
       "      <th>Date</th>\n",
       "      <th></th>\n",
       "      <th></th>\n",
       "      <th></th>\n",
       "      <th></th>\n",
       "      <th></th>\n",
       "      <th></th>\n",
       "      <th></th>\n",
       "      <th></th>\n",
       "      <th></th>\n",
       "    </tr>\n",
       "  </thead>\n",
       "  <tbody>\n",
       "    <tr>\n",
       "      <th>2024-01-03 00:00:00+00:00</th>\n",
       "      <td>-0.0258</td>\n",
       "      <td>0.0153</td>\n",
       "      <td>0.0027</td>\n",
       "      <td>-0.0231</td>\n",
       "      <td>0.0000</td>\n",
       "      <td>-0.0029</td>\n",
       "      <td>0.0227</td>\n",
       "      <td>-0.0002</td>\n",
       "      <td>-0.0226</td>\n",
       "    </tr>\n",
       "    <tr>\n",
       "      <th>2024-01-04 00:00:00+00:00</th>\n",
       "      <td>0.0026</td>\n",
       "      <td>-0.0133</td>\n",
       "      <td>0.0133</td>\n",
       "      <td>0.0327</td>\n",
       "      <td>-0.0057</td>\n",
       "      <td>0.0000</td>\n",
       "      <td>-0.0222</td>\n",
       "      <td>0.0000</td>\n",
       "      <td>0.0028</td>\n",
       "    </tr>\n",
       "    <tr>\n",
       "      <th>2024-01-05 00:00:00+00:00</th>\n",
       "      <td>-0.0240</td>\n",
       "      <td>0.0085</td>\n",
       "      <td>0.0000</td>\n",
       "      <td>0.0044</td>\n",
       "      <td>0.0000</td>\n",
       "      <td>-0.0544</td>\n",
       "      <td>0.0091</td>\n",
       "      <td>-0.0233</td>\n",
       "      <td>-0.0083</td>\n",
       "    </tr>\n",
       "    <tr>\n",
       "      <th>2024-01-08 00:00:00+00:00</th>\n",
       "      <td>0.0177</td>\n",
       "      <td>0.0128</td>\n",
       "      <td>-0.0033</td>\n",
       "      <td>0.0359</td>\n",
       "      <td>-0.0050</td>\n",
       "      <td>-0.0030</td>\n",
       "      <td>-0.0090</td>\n",
       "      <td>0.0081</td>\n",
       "      <td>-0.0055</td>\n",
       "    </tr>\n",
       "    <tr>\n",
       "      <th>2024-01-09 00:00:00+00:00</th>\n",
       "      <td>0.0137</td>\n",
       "      <td>0.0008</td>\n",
       "      <td>0.0053</td>\n",
       "      <td>-0.0017</td>\n",
       "      <td>0.0000</td>\n",
       "      <td>0.0638</td>\n",
       "      <td>0.0114</td>\n",
       "      <td>0.0000</td>\n",
       "      <td>-0.0067</td>\n",
       "    </tr>\n",
       "  </tbody>\n",
       "</table>\n",
       "</div>"
      ],
      "text/plain": [
       "                           AFT.JO  ARL.JO  ART.JO  COH.JO  KAL.JO  LBR.JO  \\\n",
       "Date                                                                        \n",
       "2024-01-03 00:00:00+00:00 -0.0258  0.0153  0.0027 -0.0231  0.0000 -0.0029   \n",
       "2024-01-04 00:00:00+00:00  0.0026 -0.0133  0.0133  0.0327 -0.0057  0.0000   \n",
       "2024-01-05 00:00:00+00:00 -0.0240  0.0085  0.0000  0.0044  0.0000 -0.0544   \n",
       "2024-01-08 00:00:00+00:00  0.0177  0.0128 -0.0033  0.0359 -0.0050 -0.0030   \n",
       "2024-01-09 00:00:00+00:00  0.0137  0.0008  0.0053 -0.0017  0.0000  0.0638   \n",
       "\n",
       "                           NVS.JO  PMR.JO  RNI.JO  \n",
       "Date                                               \n",
       "2024-01-03 00:00:00+00:00  0.0227 -0.0002 -0.0226  \n",
       "2024-01-04 00:00:00+00:00 -0.0222  0.0000  0.0028  \n",
       "2024-01-05 00:00:00+00:00  0.0091 -0.0233 -0.0083  \n",
       "2024-01-08 00:00:00+00:00 -0.0090  0.0081 -0.0055  \n",
       "2024-01-09 00:00:00+00:00  0.0114  0.0000 -0.0067  "
      ]
     },
     "metadata": {},
     "output_type": "display_data"
    }
   ],
   "source": [
    "# Calculating returns\n",
    "\n",
    "Y = data[all_assets].pct_change().dropna()\n",
    "\n",
    "display(Y.head())"
   ]
  },
  {
   "cell_type": "markdown",
   "metadata": {},
   "source": [
    "# Calculate the standard deviation (as a rsik measure) and compute the expected risks."
   ]
  },
  {
   "cell_type": "code",
   "execution_count": null,
   "metadata": {},
   "outputs": [],
   "source": []
  },
  {
   "cell_type": "code",
   "execution_count": 10,
   "metadata": {},
   "outputs": [
    {
     "data": {
      "image/png": "[encoded data removed]",
      "text/plain": [
       "<Figure size 1200x600 with 1 Axes>"
      ]
     },
     "metadata": {},
     "output_type": "display_data"
    },
    {
     "data": {
      "text/plain": [
       "1    26.395\n",
       "2    20.195\n",
       "3    17.093\n",
       "4    15.622\n",
       "5    14.099\n",
       "6    14.441\n",
       "7    15.334\n",
       "8    14.954\n",
       "9    13.663\n",
       "dtype: float64"
      ]
     },
     "execution_count": 10,
     "metadata": {},
     "output_type": "execute_result"
    }
   ],
   "source": [
    "import matplotlib.pyplot as plt\n",
    "\n",
    "def calculate_stdev_different_portfolios(data):\n",
    "\n",
    "    \"\"\"\n",
    "    Calculate standard deviation for portfolios with increasing numbers of shares and visualize the results.\n",
    "\n",
    "    Args:\n",
    "    shares_symbols (list): A list of shares symbols\n",
    "\n",
    "    Returns:\n",
    "    Series: Series containing the standard deviation for portfolios with increasing numbers of shares.\n",
    "    \"\"\"\n",
    "\n",
    "    # Dictionary to hold expected standard deviation of portfolios\n",
    "    sd = {}\n",
    "\n",
    "    # Define number of shares in each portfolio\n",
    "    number_of_shares = np.arange(1, len(Y.columns)+1)\n",
    "\n",
    "    # Iterate through each portfolio\n",
    "    for num_shares in number_of_shares:\n",
    "        # Create equal weights for each constituent in the data\n",
    "        weights = np.full(num_shares, 1/num_shares)\n",
    "\n",
    "        # Extract data from whole dataset\n",
    "        shares_data_subset = Y.iloc[:, :num_shares]\n",
    "\n",
    "        # Create covariance matrix\n",
    "        cov_mat = shares_data_subset.cov()\n",
    "\n",
    "        # Calculate annual covariance matrix\n",
    "        cov_mat = cov_mat * 252\n",
    "\n",
    "        # Calculate expected portfolio volatility\n",
    "        expected_portfolio_variance = weights.T.dot(cov_mat).dot(weights)\n",
    "        expected_portfolio_std_dev = np.sqrt(expected_portfolio_variance)\n",
    "\n",
    "        # Store in dictionary\n",
    "        sd[num_shares] = round(expected_portfolio_std_dev * 100, 3)\n",
    "\n",
    "    std_dev_of_different_portfolios = pd.Series(sd)\n",
    "\n",
    "    # Plot standard deviations\n",
    "    plt.figure(figsize=(12, 6))\n",
    "    plt.plot(std_dev_of_different_portfolios.index, std_dev_of_different_portfolios.values, marker='*', linestyle='-')\n",
    "    plt.title('Risk (Standard Deviation) of the Top 9 Portfolio.\\n Creator: Mahlatse A. Ndala.')\n",
    "    plt.xlabel('Number of Shares in Portfolio')\n",
    "    plt.ylabel('Risk (Standard Deviation) (%)')\n",
    "    plt.grid(True)\n",
    "    plt.show()\n",
    "\n",
    "    return std_dev_of_different_portfolios[:40]\n",
    "\n",
    "#checking the elbow curve\n",
    "elbow_curve = calculate_stdev_different_portfolios(data)\n",
    "elbow_curve"
   ]
  }
 ],
 "metadata": {
  "kernelspec": {
   "display_name": "base",
   "language": "python",
   "name": "python3"
  },
  "language_info": {
   "codemirror_mode": {
    "name": "ipython",
    "version": 3
   },
   "file_extension": ".py",
   "mimetype": "text/x-python",
   "name": "python",
   "nbconvert_exporter": "python",
   "pygments_lexer": "ipython3",
   "version": "3.12.4"
  }
 },
 "nbformat": 4,
 "nbformat_minor": 2
}
